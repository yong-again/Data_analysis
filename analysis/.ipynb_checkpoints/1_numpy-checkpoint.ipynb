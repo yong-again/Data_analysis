{
 "cells": [
  {
   "cell_type": "markdown",
   "metadata": {},
   "source": [
    "## 특징\n",
    "\n",
    "+ 벡터 및 행렬 연산과 관련된 편리한 기능을 제공(선형대수 관련)\n",
    "+ 리스트에 비해 빠르고 메모미를 효율적으로 사용(배열)\n",
    "+ 반복문 없이 데이터 배열에 대한 처리를 지원(인덱싱, 질의\n",
    "+ http://www.numpy.org\n",
    "+ 기본데이터타입: ndarray"
   ]
  },
  {
   "cell_type": "code",
   "execution_count": 2,
   "metadata": {},
   "outputs": [],
   "source": [
    "import numpy as np"
   ]
  },
  {
   "cell_type": "markdown",
   "metadata": {},
   "source": [
    "### 1차원 배열"
   ]
  },
  {
   "cell_type": "code",
   "execution_count": 5,
   "metadata": {},
   "outputs": [
    {
     "name": "stdout",
     "output_type": "stream",
     "text": [
      "[1, 2, 3, 4, 5, 10, 20, '가', '나']\n"
     ]
    },
    {
     "data": {
      "text/plain": [
       "list"
      ]
     },
     "execution_count": 5,
     "metadata": {},
     "output_type": "execute_result"
    }
   ],
   "source": [
    "a1 = [1, 2, 3, 4, 5, 10 , 20, \"가\", \"나\"]\n",
    "print(a1)\n",
    "type(a1)"
   ]
  },
  {
   "cell_type": "code",
   "execution_count": 28,
   "metadata": {},
   "outputs": [
    {
     "name": "stdout",
     "output_type": "stream",
     "text": [
      "['1' '2' '3' '4' '5' '10' '20' '가' '나']\n",
      "<class 'numpy.ndarray'>\n",
      "(9,)\n",
      "<U11\n"
     ]
    }
   ],
   "source": [
    "a2 = np.array([1, 2, 3, 4, 5, 10 , 20, \"가\", \"나\"]) # 전부 str 처리\n",
    "print(a2)\n",
    "print(type(a2))\n",
    "print(a2.shape) # 배열의 크기\n",
    "print(a2.dtype)"
   ]
  },
  {
   "cell_type": "code",
   "execution_count": 25,
   "metadata": {},
   "outputs": [
    {
     "name": "stdout",
     "output_type": "stream",
     "text": [
      "[ 1.  2.  3.  4.  5. 10. 20. 30. 40.]\n",
      "float64\n"
     ]
    }
   ],
   "source": [
    "a3 = np.array([1, 2, 3, 4, 5, 10 , 20, \"30\", \"40\"], float) # type 인자를 통해 type수정가능\n",
    "print(a3)\n",
    "print(a3.dtype)"
   ]
  },
  {
   "cell_type": "code",
   "execution_count": 30,
   "metadata": {},
   "outputs": [
    {
     "name": "stdout",
     "output_type": "stream",
     "text": [
      "int32\n"
     ]
    }
   ],
   "source": [
    "a4 = np.dtype('>i4') \n",
    "print(a4.name)"
   ]
  },
  {
   "cell_type": "code",
   "execution_count": 34,
   "metadata": {},
   "outputs": [
    {
     "name": "stdout",
     "output_type": "stream",
     "text": [
      "[0, 1, 2, 3, 4, 5, 6, 7, 8, 9, 0, 1, 2, 3, 4, 5, 6, 7, 8, 9]\n"
     ]
    }
   ],
   "source": [
    "# 백터화 연산\n",
    "data = [0, 1, 2, 3, 4, 5, 6, 7, 8, 9]\n",
    "print(data * 2) # list는 집합연산 "
   ]
  },
  {
   "cell_type": "code",
   "execution_count": 36,
   "metadata": {},
   "outputs": [
    {
     "name": "stdout",
     "output_type": "stream",
     "text": [
      "[ 0  2  4  6  8 10 12 14 16 18]\n",
      "[ 2  3  4  5  6  7  8  9 10 11]\n",
      "[-2 -1  0  1  2  3  4  5  6  7]\n"
     ]
    }
   ],
   "source": [
    "data2= np.array(data)\n",
    "print(data2 * 2) # 직접 반복하여 모든 데이터에 연산\n",
    "print(data2 + 2)\n",
    "print(data2 - 2)"
   ]
  },
  {
   "cell_type": "code",
   "execution_count": 40,
   "metadata": {},
   "outputs": [
    {
     "name": "stdout",
     "output_type": "stream",
     "text": [
      "0 1\n"
     ]
    }
   ],
   "source": [
    "# 인덱스접근\n",
    "print(data2[0], data2[1])"
   ]
  },
  {
   "cell_type": "markdown",
   "metadata": {},
   "source": [
    "### 2차원배열"
   ]
  },
  {
   "cell_type": "code",
   "execution_count": 72,
   "metadata": {},
   "outputs": [
    {
     "name": "stdout",
     "output_type": "stream",
     "text": [
      "[[1 2 3]\n",
      " [4 5 6]]\n",
      "(2, 3)\n",
      "[1 2 3]\n",
      "1\n",
      "2\n",
      "3\n"
     ]
    }
   ],
   "source": [
    "arr = np.array([[1, 2, 3], [4, 5, 6]])\n",
    "print(arr)\n",
    "print(arr.shape)\n",
    "\n",
    "# 접근\n",
    "print(arr[0]) # 행렬접근\n",
    "print(arr[0][0]) # 행렬접근 -> 데이터 접근\n",
    "print(len(arr)) # 행의 길이\n",
    "print(len(arr[0])) # 행렬 n번째행의 데이터 길이"
   ]
  },
  {
   "cell_type": "markdown",
   "metadata": {},
   "source": [
    "### 3차원배열"
   ]
  },
  {
   "cell_type": "code",
   "execution_count": 65,
   "metadata": {
    "scrolled": true
   },
   "outputs": [
    {
     "name": "stdout",
     "output_type": "stream",
     "text": [
      "[[[ 1  2  3  4]\n",
      "  [ 5  6  7  8]]\n",
      "\n",
      " [[ 9 10 11 12]\n",
      "  [13 14 15 16]]]\n",
      "------------\n",
      "[[1 2 3 4]\n",
      " [5 6 7 8]]\n",
      "------------\n",
      "[1 2 3 4]\n",
      "------------\n",
      "4\n",
      "------------\n",
      "(2, 2, 4)\n",
      "3\n",
      "2 2 4\n"
     ]
    }
   ],
   "source": [
    "arr = np.array([[[1, 2, 3, 4], [5, 6, 7, 8]], \n",
    "               [[9, 10, 11, 12], [13, 14, 15, 16]]]) \n",
    "print(arr)\n",
    "print('------------')\n",
    "\n",
    "print(arr[0])\n",
    "print('------------')\n",
    "\n",
    "print(arr[0][0])\n",
    "print('------------')\n",
    "\n",
    "print(arr[0][0][3])\n",
    "print('------------')\n",
    "\n",
    "print(arr.shape)\n",
    "print(arr.ndim)\n",
    "print(len(arr), len(arr[0]), len(arr[0][0]))"
   ]
  },
  {
   "cell_type": "code",
   "execution_count": 71,
   "metadata": {},
   "outputs": [
    {
     "name": "stdout",
     "output_type": "stream",
     "text": [
      "[[[1]]]\n",
      "int32\n",
      "(1, 1, 1)\n",
      "3\n",
      "1\n"
     ]
    }
   ],
   "source": [
    "arr = np.array([[[1]]])\n",
    "print(arr)\n",
    "print(arr.dtype)\n",
    "print(arr.shape)\n",
    "print(arr.ndim)\n",
    "print(len(arr))"
   ]
  },
  {
   "cell_type": "markdown",
   "metadata": {},
   "source": [
    "### 배열의 인덱싱\n",
    "+ 배열에 저장되어 있는 데이터를 접근하는 방법"
   ]
  },
  {
   "cell_type": "code",
   "execution_count": null,
   "metadata": {},
   "outputs": [],
   "source": [
    "arr = np.array([0, 1, 2, 3, 4])\n",
    "print(arr[2], arr[4], arr[-1], arr[-3])"
   ]
  },
  {
   "cell_type": "code",
   "execution_count": 79,
   "metadata": {},
   "outputs": [
    {
     "name": "stdout",
     "output_type": "stream",
     "text": [
      "2 2 5\n"
     ]
    }
   ],
   "source": [
    "arr2 = np.array([[0, 1, 2], \n",
    "                 [3, 4, 5]])\n",
    "\n",
    "print(arr2[0][2], arr2[0, 2], arr2[-1, -1])"
   ]
  },
  {
   "cell_type": "code",
   "execution_count": 104,
   "metadata": {
    "scrolled": true
   },
   "outputs": [
    {
     "name": "stdout",
     "output_type": "stream",
     "text": [
      "[0 2 4 6 8]\n",
      "[0 1 0 1 0 1 0 1 0 1]\n",
      "[ True False  True False  True False  True False  True False]\n",
      "[0 2 4 6 8]\n",
      "[0 3 6 9]\n",
      "[1 5 9]\n",
      "[9]\n"
     ]
    }
   ],
   "source": [
    "# fancy indexing\n",
    "\n",
    "arr3 = np.array([i for i in range(10)])\n",
    "arr3\n",
    "idx = np.array([True, False, True, False, True, \n",
    "                False, True, False, True, False])\n",
    "print(arr3[idx])\n",
    "print(arr3%2)\n",
    "\n",
    "print(arr3 % 2 == 0)\n",
    "print(arr3[arr3 % 2 == 0]) # boolean 행렬이 없어도 2의 배수\n",
    "\n",
    "\n",
    "# arr3에서 3의 배수를 찾아라\n",
    "print(arr3[arr3 % 3 == 0])\n",
    "\n",
    "# arr3에서 4로 나누면 1이 남는 수를 찾아라\n",
    "print(arr3[arr3 % 4 == 1])\n",
    "\n",
    "# arr3에서 3으로 나누면 나눠지고 , 4로 나누면 1이 남는 수를 찾아라\n",
    "print(arr3[(arr3 % 3 == 0) & (arr3 % 4 == 1)])\n"
   ]
  },
  {
   "cell_type": "markdown",
   "metadata": {},
   "source": [
    "### 배열의 슬라이싱"
   ]
  },
  {
   "cell_type": "code",
   "execution_count": 134,
   "metadata": {
    "scrolled": true
   },
   "outputs": [
    {
     "name": "stdout",
     "output_type": "stream",
     "text": [
      "[0 1 2]\n",
      "==========\n",
      "[[4 5]\n",
      " [8 9]]\n",
      "==========\n",
      "[0 1 2 3]\n",
      "==========\n",
      "[[0 1]\n",
      " [4 5]]\n",
      "[[0 1]\n",
      " [4 5]]\n",
      "==========\n",
      "[[ 8  9 10 11]\n",
      " [ 4  5  6  7]\n",
      " [ 0  1  2  3]]\n",
      "==========\n",
      "[[ 1  2]\n",
      " [ 5  6]\n",
      " [ 9 10]]\n",
      "3\n"
     ]
    }
   ],
   "source": [
    "arr = np.array([[0, 1, 2, 3], \n",
    "                [4, 5, 6, 7], \n",
    "                [8, 9, 10, 11]])\n",
    "\n",
    "print(arr[0, 0:3])\n",
    "print(\"==========\")\n",
    "print(arr[1:3, 0:2])\n",
    "print(\"==========\")\n",
    "print(arr[0, :])\n",
    "print(\"==========\")\n",
    "\n",
    "# [[0,1]], [4,5]] 출력\n",
    "print(arr[0:2, 0:2])\n",
    "print(arr[:2, :2])\n",
    "print(\"==========\")\n",
    "print(arr[[2, 1, 0], :]) # 행의 위치를 바꿔 출력\n",
    "print(\"==========\")\n",
    "print(arr[ :, [1,2]])\n"
   ]
  },
  {
   "cell_type": "markdown",
   "metadata": {},
   "source": [
    "### numpy 자료형\n",
    "\n",
    "+ b : 불리언(논리값)\n",
    "+ i : 정수(i8)\n",
    "+ u : 부호없는 정수\n",
    "+ f : 실수(부동소수점)\n",
    "+ c : 복소수\n",
    "+ O : 객체\n",
    "+ S : 바이트 문자열(S24)\n",
    "+ U : 유니코드 문자열"
   ]
  },
  {
   "cell_type": "code",
   "execution_count": 119,
   "metadata": {},
   "outputs": [
    {
     "name": "stdout",
     "output_type": "stream",
     "text": [
      "[1. 2. 3.]\n",
      "float32\n",
      "3.0\n"
     ]
    }
   ],
   "source": [
    "arr = np.array([1, 2, 3], dtype=\"f\") # 실수형\n",
    "print(arr)\n",
    "print(arr.dtype)\n",
    "print(arr[0] + arr[1])"
   ]
  },
  {
   "cell_type": "code",
   "execution_count": 124,
   "metadata": {},
   "outputs": [
    {
     "name": "stdout",
     "output_type": "stream",
     "text": [
      "[b'1' b'2' b'3']\n",
      "|S1\n",
      "b'13'\n",
      "==============\n",
      "['1' '2' '3']\n",
      "<U1\n",
      "12\n"
     ]
    }
   ],
   "source": [
    "arr = np.array([1, 2, 3], dtype=\"S\") # 한글자를 1바이트\n",
    "print(arr)\n",
    "print(arr.dtype)\n",
    "print(arr[0] + arr[2])\n",
    "print(\"==============\")\n",
    "arr = np.array([1, 2, 3], dtype=\"U\") # 한글자를 2바이트\n",
    "print(arr)\n",
    "print(arr.dtype)\n",
    "print(arr[0] + arr[1])"
   ]
  },
  {
   "cell_type": "code",
   "execution_count": null,
   "metadata": {},
   "outputs": [],
   "source": []
  },
  {
   "cell_type": "code",
   "execution_count": 136,
   "metadata": {},
   "outputs": [
    {
     "name": "stdout",
     "output_type": "stream",
     "text": [
      "<U5\n",
      "('<f8', (2,))\n",
      "---------------------------\n",
      "['홍길동' '임꺽정' '신돌석' '김수한무 ']\n",
      "<U5\n"
     ]
    }
   ],
   "source": [
    "dt= np.dtype([('name', np.unicode_, 5),(\"grades\", np.float64, (2,))])\n",
    "\n",
    "print(dt[\"name\"])\n",
    "print(dt[\"grades\"])\n",
    "\n",
    "print(\"---------------------------\")\n",
    "\n",
    "arr = np.array([\"홍길동\", \"임꺽정\", \"신돌석\", \"김수한무 거북이와두루미\"], dtype = dt[\"name\"])\n",
    "print(arr)\n",
    "print(arr.dtype)"
   ]
  },
  {
   "cell_type": "code",
   "execution_count": null,
   "metadata": {},
   "outputs": [],
   "source": []
  },
  {
   "cell_type": "code",
   "execution_count": null,
   "metadata": {},
   "outputs": [],
   "source": []
  },
  {
   "cell_type": "code",
   "execution_count": null,
   "metadata": {},
   "outputs": [],
   "source": []
  },
  {
   "cell_type": "code",
   "execution_count": null,
   "metadata": {},
   "outputs": [],
   "source": []
  },
  {
   "cell_type": "code",
   "execution_count": null,
   "metadata": {},
   "outputs": [],
   "source": []
  },
  {
   "cell_type": "code",
   "execution_count": null,
   "metadata": {},
   "outputs": [],
   "source": []
  },
  {
   "cell_type": "code",
   "execution_count": null,
   "metadata": {},
   "outputs": [],
   "source": []
  },
  {
   "cell_type": "code",
   "execution_count": null,
   "metadata": {},
   "outputs": [],
   "source": []
  },
  {
   "cell_type": "code",
   "execution_count": null,
   "metadata": {},
   "outputs": [],
   "source": []
  },
  {
   "cell_type": "code",
   "execution_count": null,
   "metadata": {},
   "outputs": [],
   "source": []
  },
  {
   "cell_type": "code",
   "execution_count": null,
   "metadata": {},
   "outputs": [],
   "source": []
  },
  {
   "cell_type": "code",
   "execution_count": null,
   "metadata": {},
   "outputs": [],
   "source": []
  },
  {
   "cell_type": "code",
   "execution_count": null,
   "metadata": {},
   "outputs": [],
   "source": []
  },
  {
   "cell_type": "code",
   "execution_count": null,
   "metadata": {},
   "outputs": [],
   "source": []
  },
  {
   "cell_type": "code",
   "execution_count": null,
   "metadata": {},
   "outputs": [],
   "source": []
  },
  {
   "cell_type": "code",
   "execution_count": null,
   "metadata": {},
   "outputs": [],
   "source": []
  },
  {
   "cell_type": "code",
   "execution_count": null,
   "metadata": {},
   "outputs": [],
   "source": []
  },
  {
   "cell_type": "code",
   "execution_count": null,
   "metadata": {},
   "outputs": [],
   "source": []
  },
  {
   "cell_type": "code",
   "execution_count": null,
   "metadata": {},
   "outputs": [],
   "source": []
  },
  {
   "cell_type": "code",
   "execution_count": null,
   "metadata": {},
   "outputs": [],
   "source": []
  },
  {
   "cell_type": "code",
   "execution_count": null,
   "metadata": {},
   "outputs": [],
   "source": []
  },
  {
   "cell_type": "code",
   "execution_count": null,
   "metadata": {},
   "outputs": [],
   "source": []
  },
  {
   "cell_type": "code",
   "execution_count": null,
   "metadata": {},
   "outputs": [],
   "source": []
  },
  {
   "cell_type": "code",
   "execution_count": null,
   "metadata": {},
   "outputs": [],
   "source": []
  },
  {
   "cell_type": "code",
   "execution_count": null,
   "metadata": {},
   "outputs": [],
   "source": []
  },
  {
   "cell_type": "code",
   "execution_count": null,
   "metadata": {},
   "outputs": [],
   "source": []
  },
  {
   "cell_type": "code",
   "execution_count": null,
   "metadata": {},
   "outputs": [],
   "source": []
  },
  {
   "cell_type": "code",
   "execution_count": null,
   "metadata": {},
   "outputs": [],
   "source": []
  },
  {
   "cell_type": "code",
   "execution_count": null,
   "metadata": {},
   "outputs": [],
   "source": []
  }
 ],
 "metadata": {
  "kernelspec": {
   "display_name": "Python 3",
   "language": "python",
   "name": "python3"
  },
  "language_info": {
   "codemirror_mode": {
    "name": "ipython",
    "version": 3
   },
   "file_extension": ".py",
   "mimetype": "text/x-python",
   "name": "python",
   "nbconvert_exporter": "python",
   "pygments_lexer": "ipython3",
   "version": "3.8.5"
  }
 },
 "nbformat": 4,
 "nbformat_minor": 4
}
