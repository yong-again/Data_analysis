{
 "cells": [
  {
   "cell_type": "markdown",
   "metadata": {},
   "source": [
    "## 특징\n",
    "\n",
    "+ 벡터 및 행렬 연산과 관련된 편리한 기능을 제공(선형대수 관련)\n",
    "+ 리스트에 비해 빠르고 메모리를 효율적으로 사용(배열)\n",
    "+ 반복문 없이 데이터 배열에 대한 처리를 지원(인덱싱, 질의\n",
    "+ http://www.numpy.org\n",
    "+ 기본데이터타입: ndarray"
   ]
  },
  {
   "cell_type": "code",
   "execution_count": null,
   "metadata": {},
   "outputs": [],
   "source": [
    "import numpy as np"
   ]
  },
  {
   "cell_type": "markdown",
   "metadata": {},
   "source": [
    "### 1차원 배열"
   ]
  },
  {
   "cell_type": "code",
   "execution_count": null,
   "metadata": {},
   "outputs": [],
   "source": [
    "a1 = [1, 2, 3, 4, 5, 10 , 20, \"가\", \"나\"]\n",
    "print(a1)\n",
    "type(a1)"
   ]
  },
  {
   "cell_type": "code",
   "execution_count": null,
   "metadata": {},
   "outputs": [],
   "source": [
    "a2 = np.array([1, 2, 3, 4, 5, 10 , 20, \"가\", \"나\"]) # 전부 str 처리\n",
    "print(a2)\n",
    "print(type(a2))\n",
    "print(a2.shape) # 배열의 크기\n",
    "print(a2.dtype)"
   ]
  },
  {
   "cell_type": "code",
   "execution_count": null,
   "metadata": {},
   "outputs": [],
   "source": [
    "a3 = np.array([1, 2, 3, 4, 5, 10 , 20, \"30\", \"40\"], float) # type 인자를 통해 type수정가능\n",
    "print(a3)\n",
    "print(a3.dtype)"
   ]
  },
  {
   "cell_type": "code",
   "execution_count": null,
   "metadata": {},
   "outputs": [],
   "source": [
    "a4 = np.dtype('>i4') \n",
    "print(a4.name)"
   ]
  },
  {
   "cell_type": "code",
   "execution_count": null,
   "metadata": {},
   "outputs": [],
   "source": [
    "# 백터화 연산\n",
    "data = [0, 1, 2, 3, 4, 5, 6, 7, 8, 9]\n",
    "print(data * 2) # list는 집합연산 "
   ]
  },
  {
   "cell_type": "code",
   "execution_count": null,
   "metadata": {},
   "outputs": [],
   "source": [
    "data2= np.array(data)\n",
    "print(data2 * 2) # 직접 반복하여 모든 데이터에 연산\n",
    "print(data2 + 2)\n",
    "print(data2 - 2)"
   ]
  },
  {
   "cell_type": "code",
   "execution_count": null,
   "metadata": {},
   "outputs": [],
   "source": [
    "# 인덱스접근\n",
    "print(data2[0], data2[1])"
   ]
  },
  {
   "cell_type": "markdown",
   "metadata": {},
   "source": [
    "### 2차원배열"
   ]
  },
  {
   "cell_type": "code",
   "execution_count": null,
   "metadata": {},
   "outputs": [],
   "source": [
    "arr = np.array([[1, 2, 3], [4, 5, 6]])\n",
    "print(arr)\n",
    "print(arr.shape)\n",
    "\n",
    "# 접근\n",
    "print(arr[0]) # 행렬접근\n",
    "print(arr[0][0]) # 행렬접근 -> 데이터 접근\n",
    "print(len(arr)) # 행의 길이\n",
    "print(len(arr[0])) # 행렬 n번째행의 데이터 길이"
   ]
  },
  {
   "cell_type": "markdown",
   "metadata": {},
   "source": [
    "### 3차원배열"
   ]
  },
  {
   "cell_type": "code",
   "execution_count": null,
   "metadata": {
    "scrolled": true
   },
   "outputs": [],
   "source": [
    "arr = np.array([[[1, 2, 3, 4], [5, 6, 7, 8]], \n",
    "               [[9, 10, 11, 12], [13, 14, 15, 16]]]) \n",
    "print(arr)\n",
    "print('------------')\n",
    "\n",
    "print(arr[0])\n",
    "print('------------')\n",
    "\n",
    "print(arr[0][0])\n",
    "print('------------')\n",
    "\n",
    "print(arr[0][0][3])\n",
    "print('------------')\n",
    "\n",
    "print(arr.shape)\n",
    "print(arr.ndim)\n",
    "print(len(arr), len(arr[0]), len(arr[0][0]))"
   ]
  },
  {
   "cell_type": "code",
   "execution_count": null,
   "metadata": {},
   "outputs": [],
   "source": [
    "arr = np.array([[[1]]])\n",
    "print(arr)\n",
    "print(arr.dtype)\n",
    "print(arr.shape)\n",
    "print(arr.ndim)\n",
    "print(len(arr))"
   ]
  },
  {
   "cell_type": "markdown",
   "metadata": {},
   "source": [
    "### 배열의 인덱싱\n",
    "+ 배열에 저장되어 있는 데이터를 접근하는 방법"
   ]
  },
  {
   "cell_type": "code",
   "execution_count": null,
   "metadata": {},
   "outputs": [],
   "source": [
    "arr = np.array([0, 1, 2, 3, 4])\n",
    "print(arr[2], arr[4], arr[-1], arr[-3])"
   ]
  },
  {
   "cell_type": "code",
   "execution_count": null,
   "metadata": {},
   "outputs": [],
   "source": [
    "arr2 = np.array([[0, 1, 2], \n",
    "                 [3, 4, 5]])\n",
    "\n",
    "print(arr2[0][2], arr2[0, 2], arr2[-1, -1])"
   ]
  },
  {
   "cell_type": "code",
   "execution_count": null,
   "metadata": {
    "scrolled": true
   },
   "outputs": [],
   "source": [
    "# fancy indexing\n",
    "\n",
    "arr3 = np.array([i for i in range(10)])\n",
    "arr3\n",
    "idx = np.array([True, False, True, False, True, \n",
    "                False, True, False, True, False])\n",
    "print(arr3[idx])\n",
    "print(arr3%2)\n",
    "\n",
    "print(arr3 % 2 == 0)\n",
    "print(arr3[arr3 % 2 == 0]) # boolean 행렬이 없어도 2의 배수\n",
    "\n",
    "\n",
    "# arr3에서 3의 배수를 찾아라\n",
    "print(arr3[arr3 % 3 == 0])\n",
    "\n",
    "# arr3에서 4로 나누면 1이 남는 수를 찾아라\n",
    "print(arr3[arr3 % 4 == 1])\n",
    "\n",
    "# arr3에서 3으로 나누면 나눠지고 , 4로 나누면 1이 남는 수를 찾아라\n",
    "print(arr3[(arr3 % 3 == 0) & (arr3 % 4 == 1)])\n"
   ]
  },
  {
   "cell_type": "markdown",
   "metadata": {},
   "source": [
    "### 배열의 슬라이싱"
   ]
  },
  {
   "cell_type": "code",
   "execution_count": null,
   "metadata": {
    "scrolled": true
   },
   "outputs": [],
   "source": [
    "arr = np.array([[0, 1, 2, 3], \n",
    "                [4, 5, 6, 7], \n",
    "                [8, 9, 10, 11]])\n",
    "\n",
    "print(arr[0, 0:3])\n",
    "print(\"==========\")\n",
    "print(arr[1:3, 0:2])\n",
    "print(\"==========\")\n",
    "print(arr[0, :])\n",
    "print(\"==========\")\n",
    "\n",
    "# [[0,1]], [4,5]] 출력\n",
    "print(arr[0:2, 0:2])\n",
    "print(arr[:2, :2])\n",
    "print(\"==========\")\n",
    "print(arr[[2, 1, 0], :]) # 행의 위치를 바꿔 출력\n",
    "print(\"==========\")\n",
    "print(arr[ :, [1,2]])\n"
   ]
  },
  {
   "cell_type": "markdown",
   "metadata": {},
   "source": [
    "### numpy 자료형\n",
    "\n",
    "+ b : 불리언(논리값)\n",
    "+ i : 정수(i8)\n",
    "+ u : 부호없는 정수\n",
    "+ f : 실수(부동소수점)\n",
    "+ c : 복소수\n",
    "+ O : 객체\n",
    "+ S : 바이트 문자열(S24)\n",
    "+ U : 유니코드 문자열"
   ]
  },
  {
   "cell_type": "code",
   "execution_count": null,
   "metadata": {},
   "outputs": [],
   "source": [
    "arr = np.array([1, 2, 3], dtype=\"f\") # 실수형\n",
    "print(arr)\n",
    "print(arr.dtype)\n",
    "print(arr[0] + arr[1])"
   ]
  },
  {
   "cell_type": "code",
   "execution_count": null,
   "metadata": {},
   "outputs": [],
   "source": [
    "arr = np.array([1, 2, 3], dtype=\"S\") # 한글자를 1바이트\n",
    "print(arr)\n",
    "print(arr.dtype)\n",
    "print(arr[0] + arr[2])\n",
    "print(\"==============\")\n",
    "arr = np.array([1, 2, 3], dtype=\"U\") # 한글자를 2바이트\n",
    "print(arr)\n",
    "print(arr.dtype)\n",
    "print(arr[0] + arr[1])"
   ]
  },
  {
   "cell_type": "code",
   "execution_count": null,
   "metadata": {},
   "outputs": [],
   "source": [
    "dt= np.dtype([('name', np.unicode_, 5),(\"grades\", np.float64, (2,))])\n",
    "\n",
    "print(dt[\"name\"])\n",
    "print(dt[\"grades\"])\n",
    "\n",
    "print(\"---------------------------\")\n",
    "\n",
    "arr = np.array([\"홍길동\", \"임꺽정\", \"신돌석\", \"김수한무 거북이와두루미\"], dtype = dt[\"name\"])\n",
    "print(arr)\n",
    "print(arr.dtype)\n",
    "\n",
    "print(\"---------------------------\")\n",
    "\n",
    "arr = np.array([(\"홍길동\", (5.0, 7.0)), (\"임꺽정\", (8.0, 9.0))], dtype=dt)\n",
    "print(arr)"
   ]
  },
  {
   "cell_type": "markdown",
   "metadata": {},
   "source": [
    "### 배열 생성"
   ]
  },
  {
   "cell_type": "code",
   "execution_count": null,
   "metadata": {},
   "outputs": [],
   "source": [
    "arr = np.zeros(5)\n",
    "print(arr)\n",
    "print(arr.dtype)\n",
    "print(type(arr))\n",
    "\n",
    "print(\"-------------\")\n",
    "\n",
    "arr = np.zeros(5, dtype=\"i\")\n",
    "print(arr)\n",
    "print(arr.dtype)\n",
    "print(type(arr))\n",
    "\n",
    "print(\"-------------\")\n",
    "\n",
    "arr = np.zeros(5, dtype=\"U4\")\n",
    "print(arr)\n",
    "print(arr.dtype)\n",
    "print(type(arr))\n",
    "arr[0]=\"abc\"\n",
    "arr[1]=\"abcd\"\n",
    "arr[2]=\"abcde\"\n",
    "print(arr)\n",
    "\n",
    "print(\"-------------\")\n",
    "\n",
    "arr = np.zeros((2,3))\n",
    "print(arr)"
   ]
  },
  {
   "cell_type": "code",
   "execution_count": null,
   "metadata": {},
   "outputs": [],
   "source": [
    "arr = np.ones((2, 3, 4))\n",
    "print(arr)\n",
    "\n",
    "print(\"-------------\")\n",
    "\n",
    "arr1 = np.zeros((2,3))\n",
    "arr2 = np.ones_like(arr1)\n",
    "print(arr2)       # 0행렬을 단위행렬로 바뀜(리턴값은 배열)\n",
    "\n",
    "print(\"-------------\")\n",
    "\n",
    "arr = np.empty((4,3)) # 메모리값 리턴(성능 향상, 0 이나 1 아닌 다른값으로 초기화 하기 위해 사용)\n",
    "print(arr)\n",
    "\n",
    "arr = np.arange(10) # range 와 다른점 : type= array, range 의 type = list\n",
    "print(arr)\n",
    "\n",
    "print(\"-------------\")\n",
    "\n",
    "arr = np.linspace(0, 100, 5) # 간격을 정해줌, 그래프 작성시 많이 사용\n",
    "print(arr) "
   ]
  },
  {
   "cell_type": "markdown",
   "metadata": {},
   "source": [
    "### 전치 연산(Transpose)"
   ]
  },
  {
   "cell_type": "code",
   "execution_count": null,
   "metadata": {},
   "outputs": [],
   "source": [
    "arr_1 = np.array([[1, 2, 3], [4, 5, 6]])\n",
    "print(arr_1)\n",
    "print(arr_1.T) # 행->렬"
   ]
  },
  {
   "cell_type": "markdown",
   "metadata": {},
   "source": [
    "### 배열의 크기 변형 : reshape(), flatten(), ravel() \n",
    "\n",
    "+ flatten() , ravel() -> 다차원의 array를 1차원으로 변환"
   ]
  },
  {
   "cell_type": "code",
   "execution_count": null,
   "metadata": {},
   "outputs": [],
   "source": [
    "arr = np.arange(12)\n",
    "print(arr)\n",
    "print(arr.shape)"
   ]
  },
  {
   "cell_type": "code",
   "execution_count": null,
   "metadata": {},
   "outputs": [],
   "source": [
    "arr1 = arr.reshape(3, 4)\n",
    "print(arr1)\n",
    "print(arr1.shape)\n",
    "\n",
    "print(\"---------------------\")\n",
    "\n",
    "arr1 = arr.reshape(3, -1)  # -1 -> 자동으로 열의 갯수를 출력해줌\n",
    "print(arr1)\n",
    "print(arr1.shape)\n",
    "\n",
    "\n",
    "print(\"---------------------\")\n",
    "\n",
    "arr1 = arr.reshape(-1, 4) \n",
    "print(arr1)\n",
    "print(arr1.shape)"
   ]
  },
  {
   "cell_type": "code",
   "execution_count": null,
   "metadata": {},
   "outputs": [],
   "source": [
    "arr2 = arr.reshape(2, 2, 3)\n",
    "print(arr2)\n",
    "print(arr2.shape)\n",
    "\n",
    "print(\"-------------------\")\n",
    "\n",
    "arr2 = arr.reshape(2, 2, -1)\n",
    "print(arr2)\n",
    "print(arr2.shape)\n",
    "\n",
    "print(\"-------------------\")\n",
    "\n",
    "arr2 = arr.reshape(2, -1, 3)\n",
    "print(arr2)\n",
    "print(arr2.shape)\n",
    "\n",
    "print(\"-------------------\")\n",
    "\n",
    "arr2 = arr.reshape(-1, 2, 3)\n",
    "print(arr2)\n",
    "print(arr2.shape)"
   ]
  },
  {
   "cell_type": "code",
   "execution_count": null,
   "metadata": {},
   "outputs": [],
   "source": [
    "print(arr1.flatten())\n",
    "print(arr1.ravel())\n",
    "\n",
    "print(\"--------------\")\n",
    "\n",
    "print(arr2.flatten())\n",
    "print(arr2.ravel())"
   ]
  },
  {
   "cell_type": "code",
   "execution_count": null,
   "metadata": {
    "scrolled": false
   },
   "outputs": [],
   "source": [
    "arr = np.arange(5)\n",
    "print(arr)\n",
    "\n",
    "print(\"--------------\")\n",
    "\n",
    "print(arr.reshape(1, 5))\n",
    "print(arr.reshape(5, 1))\n",
    "\n",
    "print(\"--------------\")\n",
    "\n",
    "print(arr.reshape(1, 5).T)\n",
    "print(arr.reshape(5, 1).T)\n",
    "\n",
    "print(\"--------------\")\n",
    "\n",
    "print(arr[:, np.newaxis]) # np.newaxis -> 차원을 하나씩 증가\n"
   ]
  },
  {
   "cell_type": "markdown",
   "metadata": {},
   "source": [
    "### 배열 연결(병합)\n",
    "+ stack\n",
    "+ hstack\n",
    "+ vstack\n",
    "+ dstack\n",
    "+ tile"
   ]
  },
  {
   "cell_type": "code",
   "execution_count": null,
   "metadata": {},
   "outputs": [],
   "source": [
    "# hstack, vstack\n",
    "\n",
    "arr1 = np.ones((2,3))\n",
    "print(arr1)\n",
    "\n",
    "arr2 = np.zeros((2,3))\n",
    "print(arr2)\n",
    "\n",
    "print('-------------------')\n",
    "\n",
    "arr3 = np.hstack([arr1, arr2])\n",
    "print(arr3)\n",
    "\n",
    "#arr4 = np.vstack([arr1, arr2])  # 열이 맞지 않아 연산 불가\n",
    "#print(arr4)\n",
    "\n",
    "arr4 = np.random.randint(4, size=(6,3))\n",
    "print(arr4)\n",
    "\n",
    "arr5 = np.random.randint(4, size=(4,3))\n",
    "print(arr5)\n",
    "\n",
    "print('-------------------------------')\n",
    "\n",
    "arr6 = np.vstack([arr4, arr5])\n",
    "print(arr6)\n"
   ]
  },
  {
   "cell_type": "code",
   "execution_count": null,
   "metadata": {},
   "outputs": [],
   "source": [
    "# dstack (Depth Stack) -> 차원을 증가 시킴(행과 열이 같아야함)\n",
    "\n",
    "# 3 * 4 * 2 -> 차원/행/열\n",
    "\n",
    "arr1 = np.random.randint(10, size=(3,4))\n",
    "print(arr1)\n",
    "\n",
    "print(\"------------------\")\n",
    "\n",
    "arr2 = np.random.randint(10, size=(3,4))\n",
    "print(arr2)\n",
    "\n",
    "print(\"------------------\")\n",
    "\n",
    "arr3 = np.dstack([arr1, arr2]) # 3차원\n",
    "print(arr3)\n",
    "print(arr3.shape)"
   ]
  },
  {
   "cell_type": "code",
   "execution_count": null,
   "metadata": {
    "scrolled": false
   },
   "outputs": [],
   "source": [
    "# stack : 한 차원 증가 시킨 reshape를 한뒤 axis기준으로 병합\n",
    "\n",
    "arr1 = np.random.randint(10, size=(3,4))\n",
    "print(arr1)\n",
    "\n",
    "\n",
    "\n",
    "arr2 = np.random.randint(10, size=(3,4))\n",
    "print(arr2)\n",
    "\n",
    "print(\"------------------\")\n",
    "\n",
    "arr3 = np.stack([arr1, arr2])\n",
    "print(arr3)\n",
    "print(arr3.shape)\n",
    "\n",
    "print(\"------------------\")\n",
    "\n",
    "arr4 = np.stack([arr1, arr2], axis=0)  # axis: 축 옵션(depth) 0->x축(row)  1 -> y축(colum) 2 -> z축(depth)\n",
    "print(arr4)\n",
    "print(arr4.shape)\n",
    "\n",
    "print(\"------------------\")\n",
    "\n",
    "arr5 = np.stack([arr1, arr2], axis=1)  # 3 x 2 x 4\n",
    "print(arr5)\n",
    "print(arr5.shape)\n",
    "\n",
    "print(\"------------------\")\n",
    "\n",
    "arr4 = np.stack([arr1, arr2], axis=2)  # 3 X 4 X 2\n",
    "print(arr4)\n",
    "print(arr4.shape)\n"
   ]
  },
  {
   "cell_type": "code",
   "execution_count": null,
   "metadata": {},
   "outputs": [],
   "source": [
    "# tile\n",
    "\n",
    "arr = np.array([[0, 1, 2], [4, 5, 6]])\n",
    "print(np.tile(arr, 2))\n",
    "\n",
    "print('---------------')\n",
    "\n",
    "print(np.tile(arr, (3, 2))) "
   ]
  },
  {
   "cell_type": "markdown",
   "metadata": {},
   "source": [
    "### 2차원 그리드 포인트 생성: meshgrid()"
   ]
  },
  {
   "cell_type": "code",
   "execution_count": null,
   "metadata": {},
   "outputs": [],
   "source": [
    "x = np.arange(3)\n",
    "x"
   ]
  },
  {
   "cell_type": "code",
   "execution_count": null,
   "metadata": {},
   "outputs": [],
   "source": [
    "y = np.arange(5)\n",
    "y"
   ]
  },
  {
   "cell_type": "code",
   "execution_count": null,
   "metadata": {
    "scrolled": true
   },
   "outputs": [],
   "source": [
    "X, Y = np.meshgrid(x, y) \n",
    "\n",
    "print(X)\n",
    "print(\"---------------\")\n",
    "print(Y)"
   ]
  },
  {
   "cell_type": "code",
   "execution_count": null,
   "metadata": {},
   "outputs": [],
   "source": [
    "z = [list(zip(x, y)) for x, y in zip(X, Y)]\n",
    "print(z)"
   ]
  },
  {
   "cell_type": "code",
   "execution_count": null,
   "metadata": {},
   "outputs": [],
   "source": [
    "import matplotlib.pylab as plt\n",
    "plt.scatter(X, Y)"
   ]
  },
  {
   "cell_type": "markdown",
   "metadata": {},
   "source": [
    "### 브로드 캐스팅(BroadCasting)\n",
    "\n",
    "+ 크기가 서로 다른 행렬(백터)끼리 연산을 가능하게 하는 것\n",
    "+ 브로드 캐스팅: 불특정 다수 통신\n",
    "+ 멀티 캐스팅:  일 대 다 통신\n",
    "+ 유니 캐스팅 : 일 대 일 통신"
   ]
  },
  {
   "cell_type": "code",
   "execution_count": null,
   "metadata": {},
   "outputs": [],
   "source": [
    "print(np.vstack([range(7)]))\n",
    "x = np.vstack([range(7)[i:i+3] for i in range(5)])\n",
    "y = np.arange(5)[:, np.newaxis]  \n",
    "\n",
    "print(x + y)\n",
    "\n",
    "print(\"---------------------\")\n",
    "y = np.arange(3)\n",
    "print(x + y)   \n",
    "\n",
    "# 차원과 크기가 다르지만 연산이 가능 -> BroadCasting"
   ]
  },
  {
   "cell_type": "markdown",
   "metadata": {},
   "source": [
    "### 차원축소(Dimension Reduction) 연산\n",
    "\n",
    "+ 최대값/최소값: min, max, argmax, argmin\n",
    "+ 대표값: sum, mean, median, std, var\n",
    "+ 불리언: all, any\n",
    "---\n",
    "정의: 행렬의 하나의 행에 있는 원소들을 하나의 데이터 집합으로 보고 그 집합의<br> \n",
    "      평균을 구하면 각 행에 대해 하나의 숫자가 나오게 된다.<br>\n",
    "      이러한 연산을 차원축소 연산이라고 한다."
   ]
  },
  {
   "cell_type": "code",
   "execution_count": null,
   "metadata": {},
   "outputs": [],
   "source": [
    "import numpy as np"
   ]
  },
  {
   "cell_type": "code",
   "execution_count": null,
   "metadata": {},
   "outputs": [],
   "source": [
    "x = np.array([1, 3, 2, -3])\n",
    "result = np.argmin(x)\n",
    "print(result)\n",
    "\n",
    "print(\"-------------\")\n",
    "\n",
    "result = np.argmax(x)\n",
    "print(result)\n",
    "\n",
    "# armin, armax -> 최소값, 최대값의 위치를 출력"
   ]
  },
  {
   "cell_type": "code",
   "execution_count": null,
   "metadata": {},
   "outputs": [],
   "source": [
    "x = np.array([[1, 1], [2, 2]])\n",
    "print(x)\n",
    "print(x.sum())\n",
    "print(\"열합계: \", x.sum(axis=0))\n",
    "print(\"행의 합계: \", x.sum(axis=1))"
   ]
  },
  {
   "cell_type": "markdown",
   "metadata": {},
   "source": [
    "### 기술통계\n",
    "\n",
    "+ len()\n",
    "+ sum(), mean()\n",
    "+ var(), std()\n",
    "+ max(), min()\n",
    "+ median()\n",
    "+ 사분위수: percentile"
   ]
  },
  {
   "cell_type": "code",
   "execution_count": null,
   "metadata": {},
   "outputs": [],
   "source": [
    "x = np.array([18,   5,  10,  23,  19,  -8,  10,   0,   0,   5,   2,  15,   8,\n",
    "              2,   5,   4,  15,  -1,   4,  -7, -24,   7,   9,  -6,  23, -13])\n",
    "\n",
    "print(\"최소값: \", np.percentile(x, 0))\n",
    "print(\"최대값: \", np.percentile(x, 100))\n",
    "print(\"1사분위: \", np.percentile(x, 25))\n",
    "print(\"2사분위: \", np.percentile(x, 50))\n",
    "print(\"3사분위: \", np.percentile(x, 75))"
   ]
  },
  {
   "cell_type": "code",
   "execution_count": null,
   "metadata": {},
   "outputs": [],
   "source": [
    "# 다양한 통계량을 보여주는 scipy.stats\n",
    "from scipy.stats import describe\n",
    "\n",
    "describe(x)\n",
    "\n",
    "# 정규분포 그래프\n",
    "# skewness : 왜도(좌우 비대칭)\n",
    "# kurtosis : 첨도(위 아래 뾰족한 정도, 이상치 확인용도)"
   ]
  },
  {
   "cell_type": "markdown",
   "metadata": {},
   "source": [
    "### 정렬"
   ]
  },
  {
   "cell_type": "code",
   "execution_count": null,
   "metadata": {},
   "outputs": [],
   "source": [
    "arr = np.array([[4, 3, 5, 7], \n",
    "                [1,12,11,9], \n",
    "                [2,15,1,14]])\n",
    "\n",
    "print(np.sort(arr)) # 오름차순정렬 , axis 기본값은 행정렬\n",
    "print(\"----------------------\")\n",
    "print(np.sort(arr, axis=1)) \n",
    "print(\"----------------------\")\n",
    "print(np.sort(arr, axis=0)) # 열기준 정렬\n",
    "print(arr)"
   ]
  },
  {
   "cell_type": "code",
   "execution_count": null,
   "metadata": {},
   "outputs": [],
   "source": [
    "# 원본에 정렬 적용\n",
    "arr = np.sort(arr)\n",
    "\n",
    "arr.sort() # in-place"
   ]
  },
  {
   "cell_type": "code",
   "execution_count": null,
   "metadata": {},
   "outputs": [],
   "source": [
    "# argsort\n",
    "arr1 = np.array([42, 38, 12, 25])\n",
    "idx = np.argsort(arr1) # 정렬된 값을 직접적으로 보여주는 것이 아니라 정렬된 값을 인덱스로 출력\n",
    "print(arr1[idx])"
   ]
  },
  {
   "cell_type": "code",
   "execution_count": null,
   "metadata": {},
   "outputs": [],
   "source": [
    "# 내림차순\n",
    "\n",
    "print(np.sort(arr1)[::-1])\n",
    "\n",
    "print(arr1[np.argsort(-arr1)])\n"
   ]
  },
  {
   "cell_type": "code",
   "execution_count": null,
   "metadata": {},
   "outputs": [],
   "source": [
    "# 슬라이스: arr[시작:끝:간격] # 1차원 \n",
    "ex = range(10)\n",
    "print(list(ex[::2]))\n",
    "print(list(ex[1::2]))\n",
    "print(list(ex[::-1]))\n",
    "print(list(ex[::-2]))"
   ]
  },
  {
   "cell_type": "markdown",
   "metadata": {},
   "source": [
    "### 난수\n",
    "+ rand() : 0 ~ 1 사이의 균일분포\n",
    "+ randn() : 가우시안 표준 정규분포\n",
    "+ randint() : 균일분포의 정수난수"
   ]
  },
  {
   "cell_type": "code",
   "execution_count": null,
   "metadata": {},
   "outputs": [],
   "source": [
    "print(np.random.rand(10))\n",
    "print(\"-------------------\")\n",
    "print(np.random.randn(3, 5))"
   ]
  },
  {
   "cell_type": "code",
   "execution_count": null,
   "metadata": {},
   "outputs": [],
   "source": [
    "print(np.random.randint(10)) # randint(num, size): 0 ~ num-1 사이에 난수 한개를 출력 , size 갯수 출력\n",
    "print(\"--------------------------------------\")\n",
    "print(np.random.randint(11, 20))\n",
    "print(\"--------------------------------------\")\n",
    "print(np.random.randint(11, 20, size=100)) \n",
    "print(\"--------------------------------------\")\n",
    "print(np.random.randint(11, 20, size=(3, 4))) "
   ]
  },
  {
   "cell_type": "code",
   "execution_count": null,
   "metadata": {},
   "outputs": [],
   "source": [
    "# 재현성(난수 고정)\n",
    "\n",
    "np.random.seed(10)\n",
    "print(np.random.rand(2))"
   ]
  },
  {
   "cell_type": "code",
   "execution_count": null,
   "metadata": {},
   "outputs": [],
   "source": [
    "# 데이터의 순서바꾸기\n",
    " \n",
    "x = np.arange(10)\n",
    "print(x)\n",
    "\n",
    "np.random.shuffle(x)\n",
    "print(x)"
   ]
  },
  {
   "cell_type": "code",
   "execution_count": null,
   "metadata": {},
   "outputs": [],
   "source": [
    "# 샘플링: 복원(default), 비복원: replace = T or F\n",
    "\n",
    "print(np.random.choice(5, 5)) # 0 ~ 4 까지 숫자 중 5번 추출(복원)\n",
    "print(np.random.choice(5, 3))\n",
    "print(\"---------------------------------\")\n",
    "print(np.random.choice(5, 5, replace=False))\n",
    "print(\"---------------------------------\")\n",
    "print(np.random.choice(5, 10, p=[0.1, 0, 0.3, 0.6, 0])) # p=[float, ....]: 값이 나올 확률을 정해주는 옵션"
   ]
  },
  {
   "cell_type": "markdown",
   "metadata": {},
   "source": [
    "### 정수형 데이터 카운팅: unique, bincount"
   ]
  },
  {
   "cell_type": "code",
   "execution_count": null,
   "metadata": {
    "scrolled": true
   },
   "outputs": [],
   "source": [
    "arr = np.array(['a', 'b', 'b', 'c', 'a'])\n",
    "\n",
    "print(len(arr))\n",
    "print(np.unique(arr))\n",
    "\n",
    "print(\"-----------------------\")\n",
    "\n",
    "idx, cnt = np.unique(arr, return_counts=True)\n",
    "print(idx)\n",
    "print(cnt)"
   ]
  },
  {
   "cell_type": "code",
   "execution_count": null,
   "metadata": {},
   "outputs": [],
   "source": [
    "# bincount : 발생하지 않은 사건에 대해서도 카운팅\n",
    "\n",
    "arr = np.array([1,1,2,2,2,3])\n",
    "print(np.bincount(arr, minlength=6)) "
   ]
  },
  {
   "cell_type": "markdown",
   "metadata": {},
   "source": [
    "### 실습\n",
    "\n",
    "+ data: https://grouplens.org\n"
   ]
  },
  {
   "cell_type": "code",
   "execution_count": 1,
   "metadata": {},
   "outputs": [],
   "source": [
    "data = np.loadtxt(\"data/ml-1m/ratings.dat\", delimiter=\"::\", dtype=np.int64)"
   ]
  },
  {
   "cell_type": "code",
   "execution_count": null,
   "metadata": {},
   "outputs": [],
   "source": [
    "print(data)\n",
    "print(data.shape)"
   ]
  },
  {
   "cell_type": "code",
   "execution_count": null,
   "metadata": {},
   "outputs": [],
   "source": [
    "# 1행부터 20행까지 출력\n",
    "data[:21, :]"
   ]
  },
  {
   "cell_type": "code",
   "execution_count": null,
   "metadata": {},
   "outputs": [],
   "source": [
    "# 20행부터 30행까지 userid와 movieid 만\n",
    "data[20:31, 0:2]"
   ]
  },
  {
   "cell_type": "code",
   "execution_count": null,
   "metadata": {},
   "outputs": [],
   "source": [
    "# 전체 평점의 평균\n",
    "x = data[::, 2]\n",
    "print(round(np.mean(x), 2))\n",
    "\n",
    "print(data[:, 2].mean())\n",
    "print(np.mean(data[:, 2]))"
   ]
  },
  {
   "cell_type": "code",
   "execution_count": 3,
   "metadata": {},
   "outputs": [
    {
     "data": {
      "text/plain": [
       "array([   1,    2,    3, ..., 3950, 3951, 3952], dtype=int64)"
      ]
     },
     "execution_count": 3,
     "metadata": {},
     "output_type": "execute_result"
    }
   ],
   "source": [
    "# 사용자별로 평점 평균(10명만 출력)\n",
    "ids = np.unique(data[:, 1])\n",
    "ids "
   ]
  },
  {
   "cell_type": "code",
   "execution_count": null,
   "metadata": {
    "scrolled": true
   },
   "outputs": [],
   "source": [
    "movie_id = np.unique(data[:,1])\n",
    "movie_id"
   ]
  },
  {
   "cell_type": "code",
   "execution_count": 4,
   "metadata": {
    "scrolled": true
   },
   "outputs": [],
   "source": [
    "score = []\n",
    "for i in ids :\n",
    "    user_score = data[data[:, 0] == i][:,2].mean()\n",
    "    score.append([i, user_score])"
   ]
  },
  {
   "cell_type": "code",
   "execution_count": 8,
   "metadata": {},
   "outputs": [
    {
     "data": {
      "text/plain": [
       "[[1, 4.188679245283019],\n",
       " [2, 3.7131782945736433],\n",
       " [3, 3.9019607843137254],\n",
       " [4, 4.190476190476191],\n",
       " [5, 3.1464646464646466],\n",
       " [6, 3.9014084507042255],\n",
       " [7, 4.32258064516129],\n",
       " [8, 3.884892086330935],\n",
       " [9, 3.7358490566037736],\n",
       " [10, 4.114713216957606]]"
      ]
     },
     "execution_count": 8,
     "metadata": {},
     "output_type": "execute_result"
    }
   ],
   "source": [
    "score[0:10]"
   ]
  },
  {
   "cell_type": "code",
   "execution_count": null,
   "metadata": {},
   "outputs": [],
   "source": [
    "# 다른 코드\n",
    "\n",
    "#user_id = np.unique(data[:, 0])\n",
    "#print(user_id.shape)\n",
    "\n",
    "\n",
    "#mean_values = []\n",
    "#for id in ids:\n",
    "    #data_for_user = data[data[:,0] == id, :]\n",
    "    #value = data_for_user[:, 2].mean()\n",
    "    #mean_values.append(id, value)\n"
   ]
  },
  {
   "cell_type": "code",
   "execution_count": 24,
   "metadata": {
    "scrolled": false
   },
   "outputs": [
    {
     "name": "stdout",
     "output_type": "stream",
     "text": [
      "<sort 사용>\n",
      "\n",
      "[ 276 2146 3098 ... 2989 2539 3358]\n",
      "[291.          4.1372549]\n",
      "[283.           4.96296296]\n",
      "\n",
      "===============================================\n",
      "\n",
      "<argmax사용>\n",
      "\n",
      "276\n",
      "[291, 4.137254901960785] \n",
      "\n",
      "최고 평점: 4.962962962962963\n"
     ]
    }
   ],
   "source": [
    "# 최고 평점 구하기\n",
    "\n",
    "# 사용자별 평점 list -> array 변환\n",
    "arr_score = np.array(score)\n",
    "#print(arr_score)\n",
    "\n",
    "print(\"<sort 사용>\\n\")\n",
    "print(np.argsort(arr_score[:, 1])[::-1])\n",
    "print(arr_score[282])\n",
    "\n",
    "print(arr_score[np.argsort(arr_score[:, 1])[::-1][0]])\n",
    "\n",
    "print(\"\\n===============================================\\n\")\n",
    "print(\"<argmax사용>\\n\")\n",
    "\n",
    "print(np.argmax(arr_score[:, 1]))\n",
    "print(score[282],\"\\n\")\n",
    "print(\"최고 평점:\", np.max(arr_score[:, 1]))"
   ]
  },
  {
   "cell_type": "code",
   "execution_count": 11,
   "metadata": {},
   "outputs": [
    {
     "name": "stdout",
     "output_type": "stream",
     "text": [
      "276\n"
     ]
    }
   ],
   "source": [
    "print(np.argmax(arr_score[:,1]))"
   ]
  },
  {
   "cell_type": "code",
   "execution_count": 1,
   "metadata": {},
   "outputs": [
    {
     "ename": "NameError",
     "evalue": "name 'arr_score' is not defined",
     "output_type": "error",
     "traceback": [
      "\u001b[1;31m---------------------------------------------------------------------------\u001b[0m",
      "\u001b[1;31mNameError\u001b[0m                                 Traceback (most recent call last)",
      "\u001b[1;32m<ipython-input-1-48e8494118cc>\u001b[0m in \u001b[0;36m<module>\u001b[1;34m\u001b[0m\n\u001b[0;32m      1\u001b[0m \u001b[1;31m# 결과값을 파일로 저장하고 싶을 때\u001b[0m\u001b[1;33m\u001b[0m\u001b[1;33m\u001b[0m\u001b[1;33m\u001b[0m\u001b[0m\n\u001b[1;32m----> 2\u001b[1;33m np.savetxt(\"data/ml-1m/id_rations.csv\", arr_score, delimiter=\",\", \n\u001b[0m\u001b[0;32m      3\u001b[0m           fmt=\"%.1f\")\n",
      "\u001b[1;31mNameError\u001b[0m: name 'arr_score' is not defined"
     ]
    }
   ],
   "source": [
    "# 결과값을 파일로 저장하고 싶을 때\n",
    "np.savetxt(\"data/ml-1m/id_rations.csv\", arr_score, delimiter=\",\", \n",
    "          fmt=\"%.1f\")"
   ]
  },
  {
   "cell_type": "code",
   "execution_count": 25,
   "metadata": {},
   "outputs": [
    {
     "ename": "NameError",
     "evalue": "name 'df' is not defined",
     "output_type": "error",
     "traceback": [
      "\u001b[1;31m---------------------------------------------------------------------------\u001b[0m",
      "\u001b[1;31mNameError\u001b[0m                                 Traceback (most recent call last)",
      "\u001b[1;32m<ipython-input-25-d662e494d55a>\u001b[0m in \u001b[0;36m<module>\u001b[1;34m\u001b[0m\n\u001b[1;32m----> 1\u001b[1;33m \u001b[0mprint\u001b[0m\u001b[1;33m(\u001b[0m\u001b[0mdf\u001b[0m\u001b[1;33m.\u001b[0m\u001b[0mvalues\u001b[0m\u001b[1;33m)\u001b[0m\u001b[1;33m\u001b[0m\u001b[1;33m\u001b[0m\u001b[0m\n\u001b[0m",
      "\u001b[1;31mNameError\u001b[0m: name 'df' is not defined"
     ]
    }
   ],
   "source": []
  },
  {
   "cell_type": "code",
   "execution_count": null,
   "metadata": {},
   "outputs": [],
   "source": []
  }
 ],
 "metadata": {
  "kernelspec": {
   "display_name": "Python 3",
   "language": "python",
   "name": "python3"
  },
  "language_info": {
   "codemirror_mode": {
    "name": "ipython",
    "version": 3
   },
   "file_extension": ".py",
   "mimetype": "text/x-python",
   "name": "python",
   "nbconvert_exporter": "python",
   "pygments_lexer": "ipython3",
   "version": "3.8.5"
  }
 },
 "nbformat": 4,
 "nbformat_minor": 4
}
